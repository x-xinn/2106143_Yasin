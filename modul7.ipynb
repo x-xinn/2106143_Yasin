{
  "nbformat": 4,
  "nbformat_minor": 0,
  "metadata": {
    "colab": {
      "provenance": [],
      "authorship_tag": "ABX9TyNjHMluRX8Wd0bldFfZa5Hc",
      "include_colab_link": true
    },
    "kernelspec": {
      "name": "python3",
      "display_name": "Python 3"
    },
    "language_info": {
      "name": "python"
    }
  },
  "cells": [
    {
      "cell_type": "markdown",
      "metadata": {
        "id": "view-in-github",
        "colab_type": "text"
      },
      "source": [
        "<a href=\"https://colab.research.google.com/github/x-xinn/2106143_Yasin/blob/main/modul7.ipynb\" target=\"_parent\"><img src=\"https://colab.research.google.com/assets/colab-badge.svg\" alt=\"Open In Colab\"/></a>"
      ]
    },
    {
      "cell_type": "code",
      "execution_count": 2,
      "metadata": {
        "colab": {
          "base_uri": "https://localhost:8080/"
        },
        "id": "c_UV8RWJjDdq",
        "outputId": "9241b3aa-e4fb-4f6e-f5cf-8dcad7496b92"
      },
      "outputs": [
        {
          "output_type": "stream",
          "name": "stdout",
          "text": [
            "   ID_Pelanggan  Gender  Usia  Pendapatan_Tahunan_Ribuan_USD  Pengeluaran_USD\n",
            "0             1    Pria    19                           15.0             39.0\n",
            "1             2    Pria    21                           15.0             81.0\n",
            "2             3  Wanita    20                           16.0              6.0\n",
            "3             4  Wanita    23                           16.0              NaN\n",
            "4             5  Wanita    31                           17.0              NaN\n"
          ]
        }
      ],
      "source": [
        "import pandas as pd\n",
        "\n",
        "dataset = pd.read_csv('data_Pengunjung_Mall.csv')\n",
        "print(dataset.head())"
      ]
    },
    {
      "cell_type": "code",
      "source": [
        "print(dataset['Pengeluaran_USD'].isna().sum())"
      ],
      "metadata": {
        "colab": {
          "base_uri": "https://localhost:8080/"
        },
        "id": "Ljwwv82jlDqH",
        "outputId": "d94cb3e5-f3e9-4708-d673-4c9807e4aad3"
      },
      "execution_count": 8,
      "outputs": [
        {
          "output_type": "stream",
          "name": "stdout",
          "text": [
            "3\n"
          ]
        }
      ]
    },
    {
      "cell_type": "code",
      "source": [
        "dataset['Pengeluaran_USD'].fillna('N',inplace=True)\n",
        "print(dataset['Pengeluaran_USD'].isna().sum())"
      ],
      "metadata": {
        "id": "d6r2JU15lq6U",
        "outputId": "f15dc468-997e-4de8-b96d-343ba5891e07",
        "colab": {
          "base_uri": "https://localhost:8080/"
        }
      },
      "execution_count": 12,
      "outputs": [
        {
          "output_type": "stream",
          "name": "stdout",
          "text": [
            "0\n"
          ]
        }
      ]
    },
    {
      "cell_type": "code",
      "source": [
        "dataset['Pengeluaran_USD'].replace(['99'], ['N'], inplace=True)\n",
        "print(dataset['Pengeluaran_USD'].value_counts())"
      ],
      "metadata": {
        "id": "B_lRrmzKnVEZ",
        "outputId": "4194d2f3-7c03-46e8-883c-db3e48e2fc49",
        "colab": {
          "base_uri": "https://localhost:8080/"
        }
      },
      "execution_count": 13,
      "outputs": [
        {
          "output_type": "stream",
          "name": "stdout",
          "text": [
            "42.0    8\n",
            "55.0    7\n",
            "73.0    6\n",
            "46.0    6\n",
            "59.0    5\n",
            "       ..\n",
            "71.0    1\n",
            "34.0    1\n",
            "9.0     1\n",
            "11.0    1\n",
            "18.0    1\n",
            "Name: Pengeluaran_USD, Length: 85, dtype: int64\n"
          ]
        }
      ]
    }
  ]
}